{
 "cells": [
  {
   "cell_type": "markdown",
   "id": "e4bc15b1",
   "metadata": {},
   "source": [
    "So today what we are trying to do is to make an MCMC sampler that work for a generic prior distribution for a generic proposal distribution in a non define number of dimensions!\n",
    "Should be difficult in some way, let's see what are we able to do."
   ]
  },
  {
   "cell_type": "markdown",
   "id": "8a5b5a1a",
   "metadata": {},
   "source": [
    "Let's start by encoding the distribution that we want to analize:"
   ]
  },
  {
   "cell_type": "code",
   "execution_count": 2,
   "id": "752c7e27",
   "metadata": {},
   "outputs": [],
   "source": [
    "import numpy as np\n",
    "from matplotlib import pyplot as plt\n",
    "import pandas as pd"
   ]
  },
  {
   "cell_type": "code",
   "execution_count": 3,
   "id": "ccc2ee23",
   "metadata": {},
   "outputs": [],
   "source": [
    "sig = 2.\n",
    "mu = 4.\n",
    "likelihood = (lambda x: np.exp(-(((x-mu)/sig)**2)/2.)/np.sqrt(2.*np.pi*(sig**2)))"
   ]
  },
  {
   "cell_type": "markdown",
   "id": "95cfa551",
   "metadata": {},
   "source": [
    "We can write now the sampler, as a proposal distribution we will use `random.normal`"
   ]
  },
  {
   "cell_type": "code",
   "execution_count": 8,
   "id": "559e1f27",
   "metadata": {},
   "outputs": [
    {
     "data": {
      "text/html": [
       "<div>\n",
       "<style scoped>\n",
       "    .dataframe tbody tr th:only-of-type {\n",
       "        vertical-align: middle;\n",
       "    }\n",
       "\n",
       "    .dataframe tbody tr th {\n",
       "        vertical-align: top;\n",
       "    }\n",
       "\n",
       "    .dataframe thead th {\n",
       "        text-align: right;\n",
       "    }\n",
       "</style>\n",
       "<table border=\"1\" class=\"dataframe\">\n",
       "  <thead>\n",
       "    <tr style=\"text-align: right;\">\n",
       "      <th></th>\n",
       "      <th>0</th>\n",
       "    </tr>\n",
       "  </thead>\n",
       "  <tbody>\n",
       "    <tr>\n",
       "      <th>0</th>\n",
       "      <td>16.718278</td>\n",
       "    </tr>\n",
       "    <tr>\n",
       "      <th>1</th>\n",
       "      <td>16.928585</td>\n",
       "    </tr>\n",
       "    <tr>\n",
       "      <th>2</th>\n",
       "      <td>16.928585</td>\n",
       "    </tr>\n",
       "    <tr>\n",
       "      <th>3</th>\n",
       "      <td>15.565469</td>\n",
       "    </tr>\n",
       "    <tr>\n",
       "      <th>4</th>\n",
       "      <td>15.271719</td>\n",
       "    </tr>\n",
       "    <tr>\n",
       "      <th>...</th>\n",
       "      <td>...</td>\n",
       "    </tr>\n",
       "    <tr>\n",
       "      <th>495</th>\n",
       "      <td>8.186155</td>\n",
       "    </tr>\n",
       "    <tr>\n",
       "      <th>496</th>\n",
       "      <td>8.782841</td>\n",
       "    </tr>\n",
       "    <tr>\n",
       "      <th>497</th>\n",
       "      <td>8.782841</td>\n",
       "    </tr>\n",
       "    <tr>\n",
       "      <th>498</th>\n",
       "      <td>8.782841</td>\n",
       "    </tr>\n",
       "    <tr>\n",
       "      <th>499</th>\n",
       "      <td>8.075015</td>\n",
       "    </tr>\n",
       "  </tbody>\n",
       "</table>\n",
       "<p>500 rows × 1 columns</p>\n",
       "</div>"
      ],
      "text/plain": [
       "             0\n",
       "0    16.718278\n",
       "1    16.928585\n",
       "2    16.928585\n",
       "3    15.565469\n",
       "4    15.271719\n",
       "..         ...\n",
       "495   8.186155\n",
       "496   8.782841\n",
       "497   8.782841\n",
       "498   8.782841\n",
       "499   8.075015\n",
       "\n",
       "[500 rows x 1 columns]"
      ]
     },
     "execution_count": 8,
     "metadata": {},
     "output_type": "execute_result"
    }
   ],
   "source": [
    "sigP = 1.\n",
    "muP = 18.\n",
    "Nsteps = 500\n",
    "\n",
    "sample =[]\n",
    "\n",
    "for i in range(Nsteps):\n",
    "    x = np.random.normal(muP, sigP, 1)[0]\n",
    "    a = likelihood(x)/likelihood(muP)\n",
    "    trial = np.random.uniform(0,1,1)\n",
    "    if trial < a:\n",
    "        muP = x\n",
    "    sample.append(muP)\n",
    "    \n",
    "sample\n",
    "df = pd.DataFrame(sample)\n",
    "df"
   ]
  },
  {
   "cell_type": "markdown",
   "id": "3fbaccbe",
   "metadata": {},
   "source": [
    "Let's plot the sample obtained"
   ]
  },
  {
   "cell_type": "code",
   "execution_count": 9,
   "id": "9e9ea1b1",
   "metadata": {},
   "outputs": [
    {
     "data": {
      "image/png": "[encoded data removed]",
      "text/plain": [
       "<Figure size 640x480 with 1 Axes>"
      ]
     },
     "metadata": {},
     "output_type": "display_data"
    }
   ],
   "source": [
    "n_bins = 100\n",
    "\n",
    "# plot the data\n",
    "fig = plt.figure()\n",
    "ax = fig.add_subplot(1, 1, 1)\n",
    "ax.hist(df[0], density=True, bins=n_bins)\n",
    "\n",
    "\n",
    "xgauss = np.linspace(min(df[0]), max(df[0]), 200)\n",
    "ygauss = likelihood(xgauss)\n",
    "\n",
    "ax.plot(xgauss,ygauss)\n",
    "\n",
    "# set the limits\n",
    "# ax.set_xlim([-4, 4])\n",
    "# ax.set_ylim([0, 1])\n",
    "plt.show()"
   ]
  }
 ],
 "metadata": {
  "kernelspec": {
   "display_name": "Python 3 (ipykernel)",
   "language": "python",
   "name": "python3"
  },
  "language_info": {
   "codemirror_mode": {
    "name": "ipython",
    "version": 3
   },
   "file_extension": ".py",
   "mimetype": "text/x-python",
   "name": "python",
   "nbconvert_exporter": "python",
   "pygments_lexer": "ipython3",
   "version": "3.10.12"
  }
 },
 "nbformat": 4,
 "nbformat_minor": 5
}
