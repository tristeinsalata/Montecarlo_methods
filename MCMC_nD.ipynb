{
 "cells": [
  {
   "cell_type": "markdown",
   "id": "059a35d6",
   "metadata": {},
   "source": [
    "So today what we are trying to do is to make an MCMC sampler that work for a generic prior distribution for a generic proposal distribution in a non define number of dimensions!\n",
    "Should be difficult in some way, let's see what are we able to do."
   ]
  },
  {
   "cell_type": "markdown",
   "id": "3ce6b69c",
   "metadata": {},
   "source": [
    "Let's start by encoding the distribution that we want to analize:"
   ]
  },
  {
   "cell_type": "code",
   "execution_count": 16,
   "id": "1bb88daa",
   "metadata": {},
   "outputs": [],
   "source": [
    "import numpy as np\n",
    "import pandas as pd\n",
    "import matplotlib.pyplot as plt"
   ]
  },
  {
   "cell_type": "code",
   "execution_count": 17,
   "id": "769e87c2",
   "metadata": {},
   "outputs": [],
   "source": [
    "sig=np.array([3, 1])\n",
    "mu=np.array([4, 5])\n",
    "likelihood = (lambda x: np.exp(-(((x-mu)/sig)**2)/2.)/np.sqrt(2.*np.pi*(sig**2)))"
   ]
  },
  {
   "cell_type": "markdown",
   "id": "8a06a8a5",
   "metadata": {},
   "source": [
    "We can write now the sampler, as a proposal distribution we will use `random.normal`"
   ]
  },
  {
   "cell_type": "code",
   "execution_count": 21,
   "id": "3cf69060",
   "metadata": {},
   "outputs": [
    {
     "data": {
      "text/html": [
       "<div>\n",
       "<style scoped>\n",
       "    .dataframe tbody tr th:only-of-type {\n",
       "        vertical-align: middle;\n",
       "    }\n",
       "\n",
       "    .dataframe tbody tr th {\n",
       "        vertical-align: top;\n",
       "    }\n",
       "\n",
       "    .dataframe thead th {\n",
       "        text-align: right;\n",
       "    }\n",
       "</style>\n",
       "<table border=\"1\" class=\"dataframe\">\n",
       "  <thead>\n",
       "    <tr style=\"text-align: right;\">\n",
       "      <th></th>\n",
       "      <th>0</th>\n",
       "      <th>1</th>\n",
       "    </tr>\n",
       "  </thead>\n",
       "  <tbody>\n",
       "    <tr>\n",
       "      <th>0</th>\n",
       "      <td>4.000000</td>\n",
       "      <td>4.000000</td>\n",
       "    </tr>\n",
       "    <tr>\n",
       "      <th>1</th>\n",
       "      <td>4.000000</td>\n",
       "      <td>4.000000</td>\n",
       "    </tr>\n",
       "    <tr>\n",
       "      <th>2</th>\n",
       "      <td>4.000000</td>\n",
       "      <td>4.000000</td>\n",
       "    </tr>\n",
       "    <tr>\n",
       "      <th>3</th>\n",
       "      <td>4.000000</td>\n",
       "      <td>4.000000</td>\n",
       "    </tr>\n",
       "    <tr>\n",
       "      <th>4</th>\n",
       "      <td>4.000000</td>\n",
       "      <td>4.000000</td>\n",
       "    </tr>\n",
       "    <tr>\n",
       "      <th>...</th>\n",
       "      <td>...</td>\n",
       "      <td>...</td>\n",
       "    </tr>\n",
       "    <tr>\n",
       "      <th>9995</th>\n",
       "      <td>2.276190</td>\n",
       "      <td>4.230331</td>\n",
       "    </tr>\n",
       "    <tr>\n",
       "      <th>9996</th>\n",
       "      <td>2.276190</td>\n",
       "      <td>4.230331</td>\n",
       "    </tr>\n",
       "    <tr>\n",
       "      <th>9997</th>\n",
       "      <td>3.797948</td>\n",
       "      <td>5.343338</td>\n",
       "    </tr>\n",
       "    <tr>\n",
       "      <th>9998</th>\n",
       "      <td>3.309655</td>\n",
       "      <td>5.542114</td>\n",
       "    </tr>\n",
       "    <tr>\n",
       "      <th>9999</th>\n",
       "      <td>3.309655</td>\n",
       "      <td>5.542114</td>\n",
       "    </tr>\n",
       "  </tbody>\n",
       "</table>\n",
       "<p>10000 rows × 2 columns</p>\n",
       "</div>"
      ],
      "text/plain": [
       "             0         1\n",
       "0     4.000000  4.000000\n",
       "1     4.000000  4.000000\n",
       "2     4.000000  4.000000\n",
       "3     4.000000  4.000000\n",
       "4     4.000000  4.000000\n",
       "...        ...       ...\n",
       "9995  2.276190  4.230331\n",
       "9996  2.276190  4.230331\n",
       "9997  3.797948  5.343338\n",
       "9998  3.309655  5.542114\n",
       "9999  3.309655  5.542114\n",
       "\n",
       "[10000 rows x 2 columns]"
      ]
     },
     "execution_count": 21,
     "metadata": {},
     "output_type": "execute_result"
    }
   ],
   "source": [
    "sigP = np.array([3, 3])\n",
    "muP = np.array([4, 4])\n",
    "Dim = len(muP)\n",
    "Nsteps = 10000\n",
    "sample =[]\n",
    "\n",
    "for i in range(Nsteps):\n",
    "    x = np.random.normal(muP, sigP, Dim)\n",
    "    a = likelihood(x)/likelihood(muP)\n",
    "    trial = np.random.uniform(0,1,1)\n",
    "    if np.all(np.greater_equal(a, trial)):\n",
    "        muP = x\n",
    "    sample.append(muP)\n",
    "sample\n",
    "\n",
    "df = pd.DataFrame(sample)\n",
    "df"
   ]
  },
  {
   "cell_type": "markdown",
   "id": "6392c1f2",
   "metadata": {},
   "source": [
    "Let's plot the sample obtained"
   ]
  },
  {
   "cell_type": "code",
   "execution_count": 22,
   "id": "715aa8b6",
   "metadata": {},
   "outputs": [],
   "source": [
    "def scatter_hist(x, y, ax, ax_histx, ax_histy):\n",
    "    # no labels\n",
    "    ax_histx.tick_params(axis=\"x\", labelbottom=False)\n",
    "    ax_histy.tick_params(axis=\"y\", labelleft=False)\n",
    "\n",
    "    # the scatter plot:\n",
    "    ax.scatter(x, y)\n",
    "\n",
    "    # now determine nice limits by hand:\n",
    "    binwidth = 0.25\n",
    "    xymax = max(np.max(np.abs(x)), np.max(np.abs(y)))\n",
    "    lim = (int(xymax/binwidth) + 1) * binwidth\n",
    "\n",
    "    bins = np.arange(-lim, lim + binwidth, binwidth)\n",
    "    ax_histx.hist(x, bins=bins)\n",
    "    ax_histy.hist(y, bins=bins, orientation='horizontal')"
   ]
  },
  {
   "cell_type": "code",
   "execution_count": 23,
   "id": "8ea19855",
   "metadata": {},
   "outputs": [
    {
     "data": {
      "image/png": "[encoded data removed]",
      "text/plain": [
       "<Figure size 600x600 with 3 Axes>"
      ]
     },
     "metadata": {},
     "output_type": "display_data"
    }
   ],
   "source": [
    "# Start with a square Figure.\n",
    "fig = plt.figure(figsize=(6, 6))\n",
    "# Add a gridspec with two rows and two columns and a ratio of 1 to 4 between\n",
    "# the size of the marginal axes and the main axes in both directions.\n",
    "# Also adjust the subplot parameters for a square plot.\n",
    "gs = fig.add_gridspec(2, 2,  width_ratios=(4, 1), height_ratios=(1, 4),\n",
    "                      left=0.1, right=0.9, bottom=0.1, top=0.9,\n",
    "                      wspace=0.05, hspace=0.05)\n",
    "# Create the Axes.\n",
    "ax = fig.add_subplot(gs[1, 0])\n",
    "ax_histx = fig.add_subplot(gs[0, 0], sharex=ax)\n",
    "ax_histy = fig.add_subplot(gs[1, 1], sharey=ax)\n",
    "# Draw the scatter plot and marginals.\n",
    "scatter_hist(df[0], df[1], ax, ax_histx, ax_histy)\n",
    "\n",
    "plt.show()"
   ]
  }
 ],
 "metadata": {
  "kernelspec": {
   "display_name": "Python 3 (ipykernel)",
   "language": "python",
   "name": "python3"
  },
  "language_info": {
   "codemirror_mode": {
    "name": "ipython",
    "version": 3
   },
   "file_extension": ".py",
   "mimetype": "text/x-python",
   "name": "python",
   "nbconvert_exporter": "python",
   "pygments_lexer": "ipython3",
   "version": "3.9.18"
  }
 },
 "nbformat": 4,
 "nbformat_minor": 5
}
