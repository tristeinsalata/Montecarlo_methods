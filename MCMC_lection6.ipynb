{
 "cells": [
  {
   "cell_type": "code",
   "execution_count": 1,
   "id": "b61bcb72",
   "metadata": {},
   "outputs": [],
   "source": [
    "import numpy as np\n",
    "import pandas as pd\n",
    "\n",
    "from matplotlib import pyplot as plt"
   ]
  },
  {
   "cell_type": "code",
   "execution_count": 22,
   "id": "769e87c2",
   "metadata": {},
   "outputs": [],
   "source": [
    "# Let's write down our likelihood\n",
    "\n",
    "def Likelihood(par_one, par_two, theo_mu_one, theo_mu_two, cov_mat):\n",
    "    \n",
    "    #Differentiation\n",
    "    diff_one = par_one - theo_mu_one\n",
    "    diff_two = par_two - theo_mu_two\n",
    "    \n",
    "    #inverting the matrix\n",
    "    inv_mat =  np.linalg.inv(cov_mat)\n",
    "    \n",
    "    #Calc the exponential\n",
    "    \n",
    "    return np.exp(np.dot(-0.5 * np.dot(diff_one, inv_matt), diff_two))"
   ]
  },
  {
   "cell_type": "markdown",
   "id": "8a06a8a5",
   "metadata": {},
   "source": [
    "We can write now the sampler, as a proposal distribution we will use `random.normal`"
   ]
  },
  {
   "cell_type": "code",
   "execution_count": 25,
   "id": "3cf69060",
   "metadata": {},
   "outputs": [
    {
     "data": {
      "text/plain": [
       "[[array([0.13298076, 0.24197072]), array([4, 4])],\n",
       " [array([0.13298076, 0.24197072]), array([4, 4])],\n",
       " [array([0.13298076, 0.24197072]), array([7.42283835, 6.48378639])],\n",
       " [array([0.06936105, 0.13268869]), array([7.42283835, 6.48378639])],\n",
       " [array([0.06936105, 0.13268869]), array([2.64908081, 5.90288039])],\n",
       " [array([0.12015908, 0.26539526]), array([2.64908081, 5.90288039])],\n",
       " [array([0.12015908, 0.26539526]), array([2.64908081, 5.90288039])],\n",
       " [array([0.12015908, 0.26539526]), array([2.64908081, 5.90288039])],\n",
       " [array([0.12015908, 0.26539526]), array([2.64908081, 5.90288039])],\n",
       " [array([0.12015908, 0.26539526]), array([2.64908081, 5.90288039])]]"
      ]
     },
     "execution_count": 25,
     "metadata": {},
     "output_type": "execute_result"
    }
   ],
   "source": [
    "sigP = np.array([3, 3])\n",
    "muP = np.array([4, 4])\n",
    "Dim = len(muP)\n",
    "Nsteps = 10\n",
    "sample =[]\n",
    "\n",
    "for i in range(Nsteps):\n",
    "    x = np.random.normal(muP, sigP, Dim)\n",
    "    Lkl_value = Likelihood(muP)\n",
    "    a = Likelihood(x)/Lkl_value\n",
    "    trial = np.random.uniform(0,1,1)\n",
    "    if np.all(np.greater_equal(a, trial)):\n",
    "        muP = x\n",
    "    sample.append([Lkl_value, muP])\n",
    "sample"
   ]
  },
  {
   "cell_type": "markdown",
   "id": "6392c1f2",
   "metadata": {},
   "source": [
    "Let's plot the sample obtained"
   ]
  },
  {
   "cell_type": "code",
   "execution_count": 16,
   "id": "8ea19855",
   "metadata": {},
   "outputs": [
    {
     "ename": "NameError",
     "evalue": "name 'hist' is not defined",
     "output_type": "error",
     "traceback": [
      "\u001b[0;31m---------------------------------------------------------------------------\u001b[0m",
      "\u001b[0;31mNameError\u001b[0m                                 Traceback (most recent call last)",
      "Cell \u001b[0;32mIn[16], line 12\u001b[0m\n\u001b[1;32m     10\u001b[0m \u001b[38;5;28;01mfor\u001b[39;00m i \u001b[38;5;129;01min\u001b[39;00m \u001b[38;5;28mrange\u001b[39m(\u001b[38;5;28mlen\u001b[39m(sample)):\n\u001b[1;32m     11\u001b[0m     val \u001b[38;5;241m=\u001b[39m [arr[i] \u001b[38;5;28;01mfor\u001b[39;00m arr \u001b[38;5;129;01min\u001b[39;00m sample]\n\u001b[0;32m---> 12\u001b[0m     \u001b[43mhist\u001b[49m(val)\n\u001b[1;32m     13\u001b[0m plt\u001b[38;5;241m.\u001b[39mshow()\n",
      "\u001b[0;31mNameError\u001b[0m: name 'hist' is not defined"
     ]
    }
   ],
   "source": [
    "\n",
    "\n",
    "# n_bins = 100\n",
    "\n",
    "# # plot the data\n",
    "# fig = plt.figure()\n",
    "# for i in range(len(sample)):\n",
    "#     val = [arr[i] for arr in sample]\n",
    "    \n",
    "# ax = fig.add_subplot(2, 1, 1)\n",
    "# ax.hist(val)\n",
    "\n",
    "# plt.show()"
   ]
  },
  {
   "cell_type": "code",
   "execution_count": null,
   "id": "8ef4b056",
   "metadata": {},
   "outputs": [],
   "source": []
  }
 ],
 "metadata": {
  "kernelspec": {
   "display_name": "Python 3 (ipykernel)",
   "language": "python",
   "name": "python3"
  },
  "language_info": {
   "codemirror_mode": {
    "name": "ipython",
    "version": 3
   },
   "file_extension": ".py",
   "mimetype": "text/x-python",
   "name": "python",
   "nbconvert_exporter": "python",
   "pygments_lexer": "ipython3",
   "version": "3.9.18"
  }
 },
 "nbformat": 4,
 "nbformat_minor": 5
}
