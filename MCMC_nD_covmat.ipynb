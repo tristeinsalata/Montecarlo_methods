{
 "cells": [
  {
   "cell_type": "markdown",
   "id": "059a35d6",
   "metadata": {},
   "source": [
    "So today what we are trying to do is to make an MCMC sampler that work for a generic prior distribution for a generic proposal distribution in a non define number of dimensions!\n",
    "Should be difficult in some way, let's see what are we able to do."
   ]
  },
  {
   "cell_type": "markdown",
   "id": "3ce6b69c",
   "metadata": {},
   "source": [
    "Let's start by encoding the distribution that we want to analize:"
   ]
  },
  {
   "cell_type": "code",
   "execution_count": 92,
   "id": "1bb88daa",
   "metadata": {},
   "outputs": [],
   "source": [
    "import numpy as np\n",
    "import pandas as pd\n",
    "import matplotlib.pyplot as plt"
   ]
  },
  {
   "cell_type": "code",
   "execution_count": 93,
   "id": "769e87c2",
   "metadata": {},
   "outputs": [],
   "source": [
    "'''\n",
    "To be evaluated the change to pandas DataFrame to evaluate the mean and covariance, working with it should be simpler and faster\n",
    "'''\n",
    "class Likelihood:\n",
    "    # We want to create a class that compute the likelihood as it is better to\n",
    "    # maintain constants inside of it and because we can manage better each single function\n",
    "    \n",
    "    # Remember that in the init each single function is calculated only in the calling of the function\n",
    "    # this means that the value are not recycled when the variable is called back \n",
    "\n",
    "    def __init__(self, dataset=None, mean=None, cov_mat=None):\n",
    "        # Initialization with a dataset\n",
    "        if dataset is not None:\n",
    "            self.dataset = dataset\n",
    "            self.mean = np.mean(dataset, axis=0)\n",
    "            self.cov_mat = np.cov(dataset)\n",
    "\n",
    "        # Initialization with cov_mat and mean\n",
    "        elif cov_mat is not None and mean is not None:\n",
    "            self.mean = mean\n",
    "            self.cov_mat = cov_mat\n",
    "        else:\n",
    "            raise ValueError(\"Insufficient arguments provided for initialization.\")\n",
    "\n",
    "        self.inv_cov = np.linalg.inv(self.cov_mat)\n",
    "        self.det_cov = np.linalg.det(self.cov_mat)\n",
    "\n",
    "    def gauss_likelihood(self, x):\n",
    "        #this is the mathod that make the likelihood, so this is essentially the one to recall inside of funtions\n",
    "        assert x.shape == self.mean.shape, \"Input dimension doesn't match the mean dimension. [type(mean) = np.array]\"\n",
    "        \n",
    "        diff = x - self.mean\n",
    "        exponent_term = -0.5 * np.dot(np.dot(diff, self.inv_cov), diff.T)\n",
    "        likelihood = (1 / ((2 * np.pi) ** (len(x) / 2) * np.sqrt(np.absolute(self.det_cov)))) * np.exp(exponent_term)\n",
    "        \n",
    "        return likelihood"
   ]
  },
  {
   "cell_type": "code",
   "execution_count": 94,
   "id": "286d0fc4",
   "metadata": {},
   "outputs": [],
   "source": [
    "def proposal_distr(mean, cov_mat):\n",
    "    # Select the proposed state (new guess) from a multivariate normal distribution\n",
    "    #with mean defined and selected covariance, the starting cov_mat should be \"circular\".\n",
    "\n",
    "    return np.random.multivariate_normal(mean, cov_mat)"
   ]
  },
  {
   "cell_type": "code",
   "execution_count": 95,
   "id": "d4d9731e",
   "metadata": {},
   "outputs": [],
   "source": [
    "def mcmc(curr_state, cov_mat, likelihood, proposal_distr):\n",
    "    # This is simply the code to iterate. \n",
    "    # We write a code that work for a single point of the cycle and return that point if it is accepted.\n",
    "    \n",
    "    # The likelihood of the point we are already in\n",
    "    curr_likeli = likelihood(curr_state)\n",
    "\n",
    "    # The proposed new state and the likelihood we are sitting on\n",
    "    proposal_state = proposal_distr(curr_state, cov_mat)\n",
    "    proposal_likeli = likelihood(proposal_state)\n",
    "\n",
    "    # The acceptance parameter for the new state\n",
    "    acceptance = proposal_likeli/curr_likeli\n",
    "\n",
    "    \n",
    "    trial = np.random.uniform(0,1)\n",
    "    if np.all(np.greater_equal(acceptance, trial)):\n",
    "        return proposal_state, proposal_likeli\n",
    "    \n",
    "    return curr_state, curr_likeli"
   ]
  },
  {
   "cell_type": "code",
   "execution_count": 100,
   "id": "7805cb89",
   "metadata": {},
   "outputs": [],
   "source": [
    "def metropolis_hasting(initial_state, initial_cov, likelihood, proposal_distr, Nsteps):\n",
    "    # Metropolis hastings variables initialization\n",
    "    sample = []\n",
    "    iterative = 0\n",
    "\n",
    "    # State initialization\n",
    "    curr_state = initial_state\n",
    "    previous_likeli = likelihood(initial_state)\n",
    "    curr_likeli = previous_likeli\n",
    "\n",
    "    # Covariance initialization\n",
    "    cov_mat = initial_cov\n",
    "\n",
    "    for i in range(Nsteps):\n",
    "        curr_state, curr_likeli= mcmc(curr_state = curr_state, cov_mat = cov_mat, likelihood = likelihood(), proposal_distr = proposal_distr)\n",
    "        iterative +=1\n",
    "        if curr_likeli is not previous_likeli:\n",
    "            sample.append([curr_state, curr_likeli, iterative])\n",
    "            iterative=0\n",
    "    \n",
    "    return sample"
   ]
  },
  {
   "cell_type": "markdown",
   "id": "29089a71",
   "metadata": {},
   "source": [
    "You should update the covariance matrix making a Gelman-Rubin convergence and by setting a value of stop updating for like 3>R>0.3 or as you find usefull."
   ]
  },
  {
   "cell_type": "code",
   "execution_count": null,
   "id": "9aeeec7e",
   "metadata": {},
   "outputs": [],
   "source": [
    "def GelmanRubin :\n",
    "    R #cumputation\n",
    "    #evaluation of the point of convegence\n",
    "    #update covariance\n",
    "  \n",
    "    "
   ]
  },
  {
   "cell_type": "code",
   "execution_count": 103,
   "id": "5f4748f7",
   "metadata": {},
   "outputs": [
    {
     "name": "stderr",
     "output_type": "stream",
     "text": [
      "/tmp/ipykernel_15495/154114418.py:5: RuntimeWarning: covariance is not symmetric positive-semidefinite.\n",
      "  return np.random.multivariate_normal(mean, cov_mat)\n"
     ]
    },
    {
     "ename": "TypeError",
     "evalue": "'numpy.float64' object is not callable",
     "output_type": "error",
     "traceback": [
      "\u001b[0;31m---------------------------------------------------------------------------\u001b[0m",
      "\u001b[0;31mTypeError\u001b[0m                                 Traceback (most recent call last)",
      "Cell \u001b[0;32mIn[103], line 15\u001b[0m\n\u001b[1;32m     12\u001b[0m proposal \u001b[38;5;241m=\u001b[39m proposal_distr(mean\u001b[38;5;241m=\u001b[39m proposal_mean, cov_mat\u001b[38;5;241m=\u001b[39m proposal_covariance)\n\u001b[1;32m     13\u001b[0m Nsteps \u001b[38;5;241m=\u001b[39m \u001b[38;5;241m100\u001b[39m\n\u001b[0;32m---> 15\u001b[0m simulated_data \u001b[38;5;241m=\u001b[39m \u001b[43mmetropolis_hasting\u001b[49m\u001b[43m(\u001b[49m\u001b[43minitial_state\u001b[49m\u001b[38;5;241;43m=\u001b[39;49m\u001b[43m \u001b[49m\u001b[43mproposal_mean\u001b[49m\u001b[43m,\u001b[49m\u001b[43m \u001b[49m\u001b[43minitial_cov\u001b[49m\u001b[38;5;241;43m=\u001b[39;49m\u001b[43m \u001b[49m\u001b[43mproposal_covariance\u001b[49m\u001b[43m,\u001b[49m\u001b[43m \u001b[49m\u001b[43mlikelihood\u001b[49m\u001b[38;5;241;43m=\u001b[39;49m\u001b[43m \u001b[49m\u001b[43mlikeli\u001b[49m\u001b[38;5;241;43m.\u001b[39;49m\u001b[43mgauss_likelihood\u001b[49m\u001b[43m(\u001b[49m\u001b[43mproposal_mean\u001b[49m\u001b[43m)\u001b[49m\u001b[43m,\u001b[49m\u001b[43m \u001b[49m\u001b[43mproposal_distr\u001b[49m\u001b[38;5;241;43m=\u001b[39;49m\u001b[43m \u001b[49m\u001b[43mproposal\u001b[49m\u001b[43m,\u001b[49m\u001b[43m \u001b[49m\u001b[43mNsteps\u001b[49m\u001b[38;5;241;43m=\u001b[39;49m\u001b[43mNsteps\u001b[49m\u001b[43m)\u001b[49m\n\u001b[1;32m     16\u001b[0m simulated_data\n",
      "Cell \u001b[0;32mIn[100], line 8\u001b[0m, in \u001b[0;36mmetropolis_hasting\u001b[0;34m(initial_state, initial_cov, likelihood, proposal_distr, Nsteps)\u001b[0m\n\u001b[1;32m      6\u001b[0m \u001b[38;5;66;03m# State initialization\u001b[39;00m\n\u001b[1;32m      7\u001b[0m curr_state \u001b[38;5;241m=\u001b[39m initial_state\n\u001b[0;32m----> 8\u001b[0m previous_likeli \u001b[38;5;241m=\u001b[39m \u001b[43mlikelihood\u001b[49m\u001b[43m(\u001b[49m\u001b[43minitial_state\u001b[49m\u001b[43m)\u001b[49m\n\u001b[1;32m      9\u001b[0m curr_likeli \u001b[38;5;241m=\u001b[39m previous_likeli\n\u001b[1;32m     11\u001b[0m \u001b[38;5;66;03m# Covariance initialization\u001b[39;00m\n",
      "\u001b[0;31mTypeError\u001b[0m: 'numpy.float64' object is not callable"
     ]
    }
   ],
   "source": [
    "# Let us write the actual code of sampling (potato mode)\n",
    "\n",
    "target_covariance = np.array([[1, 2, 3], [4, 1, 5], [8, 2, 1]]).T\n",
    "target_mean = np.array([4, 1, 18])\n",
    "\n",
    "likeli = Likelihood(mean= target_mean, cov_mat= target_covariance)\n",
    "likeli.gauss_likelihood(np.array([1,1,1]).T)\n",
    "\n",
    "proposal_mean = np.array([1, 1, 1])\n",
    "proposal_covariance = np.array([[1, 2, 3], [2, 1, 4], [3, 4, 1]]).T\n",
    "\n",
    "proposal = proposal_distr(mean= proposal_mean, cov_mat= proposal_covariance)\n",
    "Nsteps = 100\n",
    "\n",
    "simulated_data = metropolis_hasting(initial_state= proposal_mean, initial_cov= proposal_covariance, likelihood= likeli.gauss_likelihood(proposal_mean), proposal_distr= proposal, Nsteps=Nsteps)\n",
    "simulated_data"
   ]
  },
  {
   "cell_type": "code",
   "execution_count": null,
   "id": "03ec8dcd",
   "metadata": {},
   "outputs": [],
   "source": [
    "# Setup of the target distribution and number of steps\n",
    "covariance = np.array([[1, -3], [-6, 1]]).T\n",
    "\n",
    "a = Likelihood(mean = np.array([3., 5.]), cov_mat= covariance)\n",
    "print(f'mean = {a.mean}')\n",
    "type(a.mean)\n",
    "\n",
    "y = np.array([1. ,1. ])\n",
    "print(y)\n",
    "\n",
    "b = a.gauss_likelihood(y)\n",
    "print(b)\n",
    "covariance = np.array([[3, 3], [-9, 1]])\n",
    "muP = np.array([4, 4])\n",
    "Nsteps = 10000"
   ]
  },
  {
   "cell_type": "code",
   "execution_count": 21,
   "id": "3cf69060",
   "metadata": {},
   "outputs": [
    {
     "data": {
      "text/html": [
       "<div>\n",
       "<style scoped>\n",
       "    .dataframe tbody tr th:only-of-type {\n",
       "        vertical-align: middle;\n",
       "    }\n",
       "\n",
       "    .dataframe tbody tr th {\n",
       "        vertical-align: top;\n",
       "    }\n",
       "\n",
       "    .dataframe thead th {\n",
       "        text-align: right;\n",
       "    }\n",
       "</style>\n",
       "<table border=\"1\" class=\"dataframe\">\n",
       "  <thead>\n",
       "    <tr style=\"text-align: right;\">\n",
       "      <th></th>\n",
       "      <th>0</th>\n",
       "      <th>1</th>\n",
       "    </tr>\n",
       "  </thead>\n",
       "  <tbody>\n",
       "    <tr>\n",
       "      <th>0</th>\n",
       "      <td>4.000000</td>\n",
       "      <td>4.000000</td>\n",
       "    </tr>\n",
       "    <tr>\n",
       "      <th>1</th>\n",
       "      <td>4.000000</td>\n",
       "      <td>4.000000</td>\n",
       "    </tr>\n",
       "    <tr>\n",
       "      <th>2</th>\n",
       "      <td>4.000000</td>\n",
       "      <td>4.000000</td>\n",
       "    </tr>\n",
       "    <tr>\n",
       "      <th>3</th>\n",
       "      <td>4.000000</td>\n",
       "      <td>4.000000</td>\n",
       "    </tr>\n",
       "    <tr>\n",
       "      <th>4</th>\n",
       "      <td>4.000000</td>\n",
       "      <td>4.000000</td>\n",
       "    </tr>\n",
       "    <tr>\n",
       "      <th>...</th>\n",
       "      <td>...</td>\n",
       "      <td>...</td>\n",
       "    </tr>\n",
       "    <tr>\n",
       "      <th>9995</th>\n",
       "      <td>2.276190</td>\n",
       "      <td>4.230331</td>\n",
       "    </tr>\n",
       "    <tr>\n",
       "      <th>9996</th>\n",
       "      <td>2.276190</td>\n",
       "      <td>4.230331</td>\n",
       "    </tr>\n",
       "    <tr>\n",
       "      <th>9997</th>\n",
       "      <td>3.797948</td>\n",
       "      <td>5.343338</td>\n",
       "    </tr>\n",
       "    <tr>\n",
       "      <th>9998</th>\n",
       "      <td>3.309655</td>\n",
       "      <td>5.542114</td>\n",
       "    </tr>\n",
       "    <tr>\n",
       "      <th>9999</th>\n",
       "      <td>3.309655</td>\n",
       "      <td>5.542114</td>\n",
       "    </tr>\n",
       "  </tbody>\n",
       "</table>\n",
       "<p>10000 rows × 2 columns</p>\n",
       "</div>"
      ],
      "text/plain": [
       "             0         1\n",
       "0     4.000000  4.000000\n",
       "1     4.000000  4.000000\n",
       "2     4.000000  4.000000\n",
       "3     4.000000  4.000000\n",
       "4     4.000000  4.000000\n",
       "...        ...       ...\n",
       "9995  2.276190  4.230331\n",
       "9996  2.276190  4.230331\n",
       "9997  3.797948  5.343338\n",
       "9998  3.309655  5.542114\n",
       "9999  3.309655  5.542114\n",
       "\n",
       "[10000 rows x 2 columns]"
      ]
     },
     "execution_count": 21,
     "metadata": {},
     "output_type": "execute_result"
    }
   ],
   "source": [
    "df = pd.DataFrame(sample)\n",
    "df"
   ]
  }
 ],
 "metadata": {
  "kernelspec": {
   "display_name": "Python 3 (ipykernel)",
   "language": "python",
   "name": "python3"
  },
  "language_info": {
   "codemirror_mode": {
    "name": "ipython",
    "version": 3
   },
   "file_extension": ".py",
   "mimetype": "text/x-python",
   "name": "python",
   "nbconvert_exporter": "python",
   "pygments_lexer": "ipython3",
   "version": "3.10.12"
  }
 },
 "nbformat": 4,
 "nbformat_minor": 5
}
