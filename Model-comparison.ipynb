{
 "cells": [
  {
   "cell_type": "markdown",
   "id": "2e00e5d4",
   "metadata": {},
   "source": [
    "# exercize num 1 \n",
    " \n",
    "-> Redo the calculation of the odds for the spectral line problem of section 3.6 for the case where there is a systematic uncertaintyin the line center of $\\pm 5$ channels\n",
    "\n",
    "## Original Problem\n",
    "So let's start by putting up the calculations of the starting problem.\n",
    "\n",
    "We will have a set of datas (`temperatures`) corresponding to 64 channels.\n",
    "\n",
    "#### Propositions\n",
    "**D** is composed by many propositionns asserting that each value was specifically registered in that channel.\n",
    "\n",
    "$M_1 =$ \"Theory 1 correct, line exists\"\n",
    "\n",
    "$M_2 =$ \"Theory 2 correct, no line predicted\""
   ]
  },
  {
   "cell_type": "code",
   "execution_count": 102,
   "id": "b8161c75",
   "metadata": {},
   "outputs": [],
   "source": [
    "import numpy as np\n",
    "channels = np.array(range(1,65))\n",
    "temperatures = np.array([1.420, 0.468, 0.762, -1.312, 2.029, 0.086, 1.249, -0.368, -0.657, -1.294, 0.235, -0.192, -0.269, 0.827, -0.685, -0.702, -0.937, 1.331, -1.772, -0.530, 0.330, 1.205, 1.613, 0.300, -0.046, -0.026, -0.519, 0.924, 0.230, 0.877, -0.650, -1.004, 0.248, -1.169, 0.915, 1.113, 1.463, 2.732, 0.571, 0.865, -0.849, -0.171, 1.031, 1.105, -0.344, -0.087, -0.351, 1.248, 0.001, 0.360, -0.497, -0.072, 1.094, -1.425, 0.283, -1.526, -1.174, -0.558, 1.282, -0.384, -0.120, -0.187, 0.646, 0.399])"
   ]
  },
  {
   "cell_type": "markdown",
   "id": "72e0c2da",
   "metadata": {},
   "source": [
    "**Model 1**\n",
    "\n",
    "It assume that the lines are given by a gaussian:\n",
    "\n",
    "$$T\\cdot\\exp\\left(\\frac{-(\\nu_i-\\nu_0)^2}{2\\sigma_L^2}\\right) $$\n",
    "\n",
    "where the values are given by:"
   ]
  },
  {
   "cell_type": "code",
   "execution_count": 103,
   "id": "82520d54",
   "metadata": {},
   "outputs": [],
   "source": [
    "sigmaL = 2.\n",
    "freq_z = 37.\n",
    "freq_i = channels"
   ]
  },
  {
   "cell_type": "markdown",
   "id": "2d972830",
   "metadata": {},
   "source": [
    "**Model 2**\n",
    "\n",
    "It assume that there are no lines and this means that there will be only noise in the signal!"
   ]
  },
  {
   "cell_type": "markdown",
   "id": "370619b9",
   "metadata": {},
   "source": [
    "## Odds Ratio\n",
    "To answer which model is the best one, we compute the odds ratio of model $M_1$ to model $M_2$\n",
    "$$ O_{12} = \\frac{P(M_1|D, I)}{P(M_2|D, I)}$$\n",
    "\n",
    "To obtain the global likelyhood of $M_1$ we need to marginalize over its unknown parameter T:\n",
    "\n",
    "$$ P(D|M_1, I) = \\int dT\\, P(T|M_1,I) P(D|M_1,I)$$\n",
    "\n",
    "So to find this value we need to find the prior probability $P(T|M_1,I)$ and the likelyhood dependent on T $P(D|M_1,I)$\n"
   ]
  },
  {
   "cell_type": "markdown",
   "id": "bc74ea62",
   "metadata": {},
   "source": [
    "\n",
    "## Model 1\n",
    "\n",
    "### Choice of prior \n",
    "\n",
    "#### Model 1\n",
    "\n",
    "We have various possibility, the simplest one is the:\n",
    "\n",
    "- **Uniform prior** that in this case is simply given by $1/\\Delta T$ "
   ]
  },
  {
   "cell_type": "code",
   "execution_count": 104,
   "id": "926fe4f3",
   "metadata": {},
   "outputs": [],
   "source": [
    "Tmax = 100.\n",
    "Tmin = 0.1\n",
    "DT = Tmax - Tmin\n",
    "\n",
    "UniformPrior = 1./DT"
   ]
  },
  {
   "cell_type": "markdown",
   "id": "d1846cbd",
   "metadata": {},
   "source": [
    "- **Jeffreys Prior** which is given by\n",
    "$$P(T|M_1, I)= \\frac{1}{T\\ln(T_{max}/T_{min})}$$"
   ]
  },
  {
   "cell_type": "code",
   "execution_count": 105,
   "id": "fc7227ba",
   "metadata": {},
   "outputs": [],
   "source": [
    "JefPrior = (lambda T: 1./(T*np.log(Tmax/Tmin)))"
   ]
  },
  {
   "cell_type": "markdown",
   "id": "a4224f6e",
   "metadata": {},
   "source": [
    "### Calculation of the likelyhood $P(D|M_1,T,I)$\n",
    "$d_i$ rrepresent the measured data value for the $i$th channel.\n",
    "\n",
    "According to model $M_1$:\n",
    "$$d_i=Tf_i+e_i$$\n",
    "where $e_i$ is an error term."
   ]
  },
  {
   "cell_type": "code",
   "execution_count": 106,
   "id": "0fbba920",
   "metadata": {},
   "outputs": [],
   "source": [
    "d_i = temperatures"
   ]
  },
  {
   "cell_type": "markdown",
   "id": "41466962",
   "metadata": {},
   "source": [
    "Our prior information indicates that this error is caused by receiver nois which has a Gaussian distribution with a standard deviatio of $\\sigma$.\n",
    "\n",
    "From model 1 we have also:\n",
    "$$f_i=\\exp\\left(\\frac{-(\\nu_i-\\nu_0)^2}{2\\sigma_L^2}\\right) $$\n"
   ]
  },
  {
   "cell_type": "code",
   "execution_count": 107,
   "id": "31aae8c9",
   "metadata": {},
   "outputs": [
    {
     "data": {
      "text/plain": [
       "array([4.40853133e-71, 3.15251716e-67, 1.75568810e-63, 7.61489029e-60,\n",
       "       2.57220937e-56, 6.76667568e-53, 1.38634329e-49, 2.21203803e-46,\n",
       "       2.74878501e-43, 2.66020642e-40, 2.00500878e-37, 1.17691094e-34,\n",
       "       5.38018616e-32, 1.91547895e-29, 5.31109225e-27, 1.14687658e-24,\n",
       "       1.92874985e-22, 2.52616378e-20, 2.57675711e-18, 2.04697171e-16,\n",
       "       1.26641655e-14, 6.10193668e-13, 2.28973485e-11, 6.69158609e-10,\n",
       "       1.52299797e-08, 2.69957850e-07, 3.72665317e-06, 4.00652974e-05,\n",
       "       3.35462628e-04, 2.18749112e-03, 1.11089965e-02, 4.39369336e-02,\n",
       "       1.35335283e-01, 3.24652467e-01, 6.06530660e-01, 8.82496903e-01,\n",
       "       1.00000000e+00, 8.82496903e-01, 6.06530660e-01, 3.24652467e-01,\n",
       "       1.35335283e-01, 4.39369336e-02, 1.11089965e-02, 2.18749112e-03,\n",
       "       3.35462628e-04, 4.00652974e-05, 3.72665317e-06, 2.69957850e-07,\n",
       "       1.52299797e-08, 6.69158609e-10, 2.28973485e-11, 6.10193668e-13,\n",
       "       1.26641655e-14, 2.04697171e-16, 2.57675711e-18, 2.52616378e-20,\n",
       "       1.92874985e-22, 1.14687658e-24, 5.31109225e-27, 1.91547895e-29,\n",
       "       5.38018616e-32, 1.17691094e-34, 2.00500878e-37, 2.66020642e-40])"
      ]
     },
     "execution_count": 107,
     "metadata": {},
     "output_type": "execute_result"
    }
   ],
   "source": [
    "f_i = np.exp(-((freq_i-freq_z)**2/(2*sigmaL**2)))\n",
    "f_i\n"
   ]
  },
  {
   "cell_type": "markdown",
   "id": "a0ab2e3a",
   "metadata": {},
   "source": [
    "Let instroduce\n",
    "\n",
    "$E_i=$\"a proposition asserting that the $i$th error value is in the range $e_i$ to $e_i+de_i$\"\n",
    "\n",
    "The uncertainty on the data for each channel is $\\sigma = 1$"
   ]
  },
  {
   "cell_type": "code",
   "execution_count": 108,
   "id": "b0a82aec",
   "metadata": {},
   "outputs": [],
   "source": [
    "sigma = 1."
   ]
  },
  {
   "cell_type": "markdown",
   "id": "3813ac84",
   "metadata": {},
   "source": [
    "In our case it can be shown that:\n",
    "$$P(D_i|M_1,T,I)=P(E_i|M_1,T,I)$$\n",
    "\n",
    "If all $E_i$ are independent we find that the likelyhood can be written as:\n",
    "\n",
    "$$P(D|M_1,T,I)=\\prod_{i=1}^N P(E_i|M_1,T,I)$$\n",
    "\n",
    "From the prior information we can write:\n",
    "\n",
    "$$\\begin{align}\n",
    "P(E_i|M_1,T,I) &= \\frac{1}{\\sigma \\sqrt{2\\pi}}\\exp\\left(-\\frac{e_i^2}{2\\sigma^2}\\right) \\\\\n",
    "&= \\frac{1}{\\sigma \\sqrt{2\\pi}}\\exp\\left(-\\frac{(d_i-Tf_i)^2}{2\\sigma^2}\\right)\n",
    "\\end{align}$$\n",
    "\n",
    "Combinig the two last equations we obtain the probability of the entire data set:\n",
    "$$\\begin{align}\n",
    "P(D|M_1,T,I) &= \\prod_{i=1}^N\\frac{1}{\\sigma \\sqrt{2\\pi}}\\exp\\left(-\\frac{(d_i-Tf_i)^2}{2\\sigma^2}\\right) \\\\\n",
    "&= (2\\pi)^{-N/2}\\sigma^{-N}\\exp\\left(-\\frac{\\sum_i(d_i-Tf_i)^2}{2\\sigma^2}\\right)\n",
    "\\end{align}$$\n",
    "\n"
   ]
  },
  {
   "cell_type": "code",
   "execution_count": 109,
   "id": "2f5fc48e",
   "metadata": {},
   "outputs": [],
   "source": [
    "N = 64.\n",
    "Likelihood = lambda T: ((2*np.pi)**(-N/2.))*(sigma**(-N))*np.exp(-np.sum((d_i - T*f_i)**2)/(2.*(sigma**2)))\n"
   ]
  },
  {
   "cell_type": "markdown",
   "id": "3b2253e7",
   "metadata": {},
   "source": [
    "Now that we know how to do this we can proceed to the calculation, notice that we should do it for both the priors that we tried:\n",
    "\n",
    "**Uniform prior case**\n",
    "\n",
    "$$P(D|M_1,I) = \\frac{(2\\pi)^{-N/2}\\sigma^{-N}}{\\Delta T} \\exp\\left(-\\frac{\\sum_i d_i^2}{2\\sigma^2}\\right)\\int_{T_{min}}^{T_{max}}dT\\exp\\left(\\frac{T\\sum_i d_if_i}{\\sigma^2}\\right)\\exp\\left(\\frac{T^2\\sum_i f_i^2}{\\sigma^2}\\right)$$"
   ]
  },
  {
   "cell_type": "code",
   "execution_count": 110,
   "id": "6b29c5c1",
   "metadata": {},
   "outputs": [
    {
     "data": {
      "text/plain": [
       "2.35436030362679e-38"
      ]
     },
     "execution_count": 110,
     "metadata": {},
     "output_type": "execute_result"
    }
   ],
   "source": [
    "from scipy.integrate import quad\n",
    "Tot_likelihood_uni = quad((lambda x:UniformPrior*Likelihood(x)), 0.1, 100)\n",
    "Tot_likelihood_uni[1]\n"
   ]
  },
  {
   "cell_type": "markdown",
   "id": "7082b9d7",
   "metadata": {},
   "source": [
    "**Jefreys prior case**\n",
    "$$P(D|M_1,I) = \\frac{(2\\pi)^{-N/2}\\sigma^{-N}}{\\ln(T_{max}/T_{min})} \\exp\\left(-\\frac{\\sum_i d_i^2}{2\\sigma^2}\\right)\\int_{T_{min}}^{T_{max}}dT\\frac{\\exp\\left(\\frac{T\\sum_i d_if_i}{\\sigma^2}\\right)\\exp\\left(\\frac{T^2\\sum_i f_i^2}{\\sigma^2}\\right)}{T}$$"
   ]
  },
  {
   "cell_type": "code",
   "execution_count": null,
   "id": "de09773a",
   "metadata": {},
   "outputs": [],
   "source": []
  },
  {
   "cell_type": "markdown",
   "id": "dbba1e33",
   "metadata": {},
   "source": [
    "## Model 2\n",
    "We have to do the same process for the model 2.\n",
    "The only thing that change is essentially the value of $d_i$:\n",
    "\n",
    "$$d_i=0-e_i$$\n",
    "\n",
    "From this assumption we can find:\n",
    "\n",
    "$$ P(D|M_2,I) = (2\\pi)^{-N/2}\\sigma^{-N}\\exp\\left(-\\frac{\\sum_id_i^2}{2\\sigma^2}\\right)$$"
   ]
  },
  {
   "cell_type": "code",
   "execution_count": null,
   "id": "45ebea23",
   "metadata": {},
   "outputs": [],
   "source": []
  },
  {
   "cell_type": "markdown",
   "id": "d0967188",
   "metadata": {},
   "source": []
  },
  {
   "cell_type": "code",
   "execution_count": null,
   "id": "7cbed277",
   "metadata": {},
   "outputs": [],
   "source": []
  },
  {
   "cell_type": "code",
   "execution_count": null,
   "id": "4491c08b",
   "metadata": {},
   "outputs": [],
   "source": []
  },
  {
   "cell_type": "code",
   "execution_count": null,
   "id": "99aeaf87",
   "metadata": {},
   "outputs": [],
   "source": []
  }
 ],
 "metadata": {
  "kernelspec": {
   "display_name": "Python 3 (ipykernel)",
   "language": "python",
   "name": "python3"
  },
  "language_info": {
   "codemirror_mode": {
    "name": "ipython",
    "version": 3
   },
   "file_extension": ".py",
   "mimetype": "text/x-python",
   "name": "python",
   "nbconvert_exporter": "python",
   "pygments_lexer": "ipython3",
   "version": "3.9.18"
  }
 },
 "nbformat": 4,
 "nbformat_minor": 5
}
